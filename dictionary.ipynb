{
 "cells": [
  {
   "cell_type": "markdown",
   "id": "c3a6efac-5dbb-498f-923b-bd0b71c07e4f",
   "metadata": {},
   "source": [
    "## Talking About Python Dictionary\n",
    "## what a dictionary is\n",
    "## key features of dictionary\n",
    "## Common operation in dictionary\n",
    "## Dictionary methods\n",
    "## Ways of creating a dictionary\n",
    "## And a contact management system using python dictionay"
   ]
  },
  {
   "cell_type": "markdown",
   "id": "9c0e2832-73a9-4a34-84dd-dc457897ffb0",
   "metadata": {},
   "source": [
    "Dictionaries are used to store data values in key:value pairs.\n",
    "A dictionary is a collection which is ordered*, changeable and do not allow duplicates.\n",
    "\n",
    "{key:value}\n",
    "\n",
    "key - index number\n",
    "\n",
    "value - name or other details\n",
    "\n",
    "key - person's name\n",
    "\n",
    "value - tel number\n"
   ]
  },
  {
   "cell_type": "markdown",
   "id": "517ebf41-2a94-47dc-879f-508e412ce36a",
   "metadata": {},
   "source": [
    "## Features of dictionary\n",
    "1. key-value pair\n",
    "\n",
    "2. changeable\n",
    "\n",
    "3. No duplicate keys"
   ]
  },
  {
   "cell_type": "markdown",
   "id": "ebb0e750-6bf1-4aea-bc2b-5a6bdf744559",
   "metadata": {},
   "source": [
    "## Common operation in dictionary\n",
    "1. Accessing items in dictionary: To access items in dic we uses the keys.\n",
    "   \n",
    "2. Adding or updating items: mydict[\"key\"] = \"value\"\n",
    "   \n",
    "3. Removing items: pop(), popitem(), del(), clear()\n",
    "   \n",
    "4. Looping: iterating a dictionary, .items(), .keys(), .values()\n"
   ]
  },
  {
   "cell_type": "markdown",
   "id": "a0114398-b2cb-498b-99c3-f88608c40e6d",
   "metadata": {},
   "source": [
    "## Dictionary methods\n",
    "1. clear() - it removes items from a dictionary\n",
    "   \n",
    "2. copy() - Creates a copy of the dictionary\n",
    " \n",
    "3. get() - retrieves a value for specified key\n",
    "\n",
    "4. items() - returns a list of key value-pair\n",
    "\n",
    "5. keys() - returns the list of keys within a dictionary\n",
    "\n",
    "6. values() - returns all list of values in the dictionary\n",
    "\n",
    "7. pop() - remove any key from the right\n"
   ]
  },
  {
   "cell_type": "code",
   "execution_count": 4,
   "id": "fc152efe-3ac9-490a-a1b5-19e97a173bbc",
   "metadata": {},
   "outputs": [
    {
     "name": "stdout",
     "output_type": "stream",
     "text": [
      "\n",
      "--- Contact Management System ---\n",
      "1. View all contacts\n",
      "2. Add new contact\n",
      "3. Modify an existing contact\n",
      "4. Delete a contact\n",
      "5. Exit\n"
     ]
    },
    {
     "name": "stdin",
     "output_type": "stream",
     "text": [
      "Choose an option (1-5):  5\n"
     ]
    },
    {
     "name": "stdout",
     "output_type": "stream",
     "text": [
      "Exiting Contact Management System.\n"
     ]
    }
   ],
   "source": [
    "class ContactManagement:\n",
    "    def display_menu(self):\n",
    "        print(\"\\n--- Contact Management System ---\")\n",
    "        print(\"1. View all contacts\")\n",
    "        print(\"2. Add new contact\")\n",
    "        print(\"3. Modify an existing contact\")\n",
    "        print(\"4. Delete a contact\")\n",
    "        print(\"5. Exit\")\n",
    "        return input(\"Choose an option (1-5): \")\n",
    "\n",
    "    def view_contacts(self, contacts):\n",
    "        if not contacts:\n",
    "            print(\"\\nNo contacts found.\")\n",
    "        else:\n",
    "            print(\"\\n--- Contact List ---\")\n",
    "            for name, details in contacts.items():\n",
    "                print(f\"Name: {name}, Phone: {details['phone']}, Email: {details['email']}\")\n",
    "\n",
    "    def add_contact(self, contacts):\n",
    "        name = input(\"\\nEnter contact name: \")\n",
    "        if name in contacts:\n",
    "            print(\"Contact already exists.\")\n",
    "        else:\n",
    "            phone = input(\"Enter phone number: \")\n",
    "            email = input(\"Enter email address: \")\n",
    "            contacts[name] = {\"phone\": phone, \"email\": email}\n",
    "            print(f\"Contact '{name}' added successfully.\")\n",
    "\n",
    "    def modify_contact(self, contacts):\n",
    "        name = input(\"\\nEnter the contact name to modify: \")\n",
    "        if name in contacts:\n",
    "            print(f\"Existing details - Phone: {contacts[name]['phone']}, Email: {contacts[name]['email']}\")\n",
    "            phone = input(\"Enter new phone number (or press enter to keep current): \")\n",
    "            email = input(\"Enter new email address (or press enter to keep current): \")\n",
    "            \n",
    "            if phone:\n",
    "                contacts[name]['phone'] = phone\n",
    "            if email:\n",
    "                contacts[name]['email'] = email\n",
    "            \n",
    "            print(f\"Contact '{name}' updated successfully.\")\n",
    "        else:\n",
    "            print(f\"Contact '{name}' not found.\")\n",
    "\n",
    "    def delete_contact(self, contacts):\n",
    "        name = input(\"\\nEnter the contact name to delete: \")\n",
    "        if name in contacts:\n",
    "            del contacts[name]\n",
    "            print(f\"Contact '{name}' deleted successfully.\")\n",
    "        else:\n",
    "            print(f\"Contact '{name}' not found.\")\n",
    "\n",
    "    def main(self):\n",
    "        contacts = {}  # Dictionary to store contacts\n",
    "        while True:\n",
    "            choice = self.display_menu()\n",
    "            if choice == '1':\n",
    "                self.view_contacts(contacts)\n",
    "            elif choice == '2':\n",
    "                self.add_contact(contacts)\n",
    "            elif choice == '3':\n",
    "                self.modify_contact(contacts)\n",
    "            elif choice == '4':\n",
    "                self.delete_contact(contacts)\n",
    "            elif choice == '5':\n",
    "                print(\"Exiting Contact Management System.\")\n",
    "                break\n",
    "            else:\n",
    "                print(\"Invalid option. Please choose between 1 and 5.\")\n",
    "\n",
    "if __name__ == \"__main__\":\n",
    "    cms = ContactManagement()\n",
    "    cms.main()\n"
   ]
  },
  {
   "cell_type": "code",
   "execution_count": null,
   "id": "3f8d0734-db3e-470e-b9ac-43f82fb8ec0f",
   "metadata": {},
   "outputs": [],
   "source": []
  }
 ],
 "metadata": {
  "kernelspec": {
   "display_name": "Python 3 (ipykernel)",
   "language": "python",
   "name": "python3"
  },
  "language_info": {
   "codemirror_mode": {
    "name": "ipython",
    "version": 3
   },
   "file_extension": ".py",
   "mimetype": "text/x-python",
   "name": "python",
   "nbconvert_exporter": "python",
   "pygments_lexer": "ipython3",
   "version": "3.12.7"
  }
 },
 "nbformat": 4,
 "nbformat_minor": 5
}
